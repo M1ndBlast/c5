{
 "cells": [
  {
   "cell_type": "code",
   "execution_count": 213,
   "metadata": {},
   "outputs": [],
   "source": [
    "import pandas as pd\n",
    "import numpy as np\n",
    "import re\n",
    "import os\n",
    "\n",
    "path = os.getcwd()\n",
    "files = os.listdir(path)\n",
    "files_csv = [f for f in files if f[-4:] == '.csv']\n",
    "\n",
    "df = pd.DataFrame()\n",
    "for file in files_csv:\n",
    "    df = pd.concat([df, pd.read_csv(file, sep=',', encoding='utf-8', dtype=str)], ignore_index=True)\n",
    "\n",
    "df['Motivo'] = ''\n",
    "df['Motivo general'] = ''\n",
    "df.dropna(subset=['comentarios'], inplace=True)\n",
    "df.reset_index(drop=False, inplace=True)\n"
   ]
  },
  {
   "cell_type": "code",
   "execution_count": 176,
   "metadata": {},
   "outputs": [],
   "source": [
    "motivos = pd.read_excel('MatrizMotivos.xlsx', dtype=str, skiprows=11)\n",
    "# index por la columna 'MOTIVO'\n",
    "motivos = motivos.fillna(method='ffill')\n",
    "motivos = motivos.set_index('MOTIVO')\n",
    "# rellenar los indices nan con el valor del indice anterior\n",
    "motivos = motivos[['NOMBRE_MOTIVO']]\n",
    "\n",
    "motivos_s = np.array(motivos[['NOMBRE_MOTIVO']])\n",
    "motivos_ss = []\n",
    "\n",
    "for i in range(len(motivos_s)):\n",
    "    motivo_s = motivos_s[i][0]\n",
    "    motivos_ss.append(motivo_s.replace('-', ' '))\n",
    "\n"
   ]
  },
  {
   "cell_type": "code",
   "execution_count": 211,
   "metadata": {},
   "outputs": [
    {
     "data": {
      "text/html": [
       "<div>\n",
       "<style scoped>\n",
       "    .dataframe tbody tr th:only-of-type {\n",
       "        vertical-align: middle;\n",
       "    }\n",
       "\n",
       "    .dataframe tbody tr th {\n",
       "        vertical-align: top;\n",
       "    }\n",
       "\n",
       "    .dataframe thead th {\n",
       "        text-align: right;\n",
       "    }\n",
       "</style>\n",
       "<table border=\"1\" class=\"dataframe\">\n",
       "  <thead>\n",
       "    <tr style=\"text-align: right;\">\n",
       "      <th></th>\n",
       "      <th>folio</th>\n",
       "      <th>comentarios</th>\n",
       "      <th>Motivo</th>\n",
       "      <th>Motivo general</th>\n",
       "    </tr>\n",
       "  </thead>\n",
       "  <tbody>\n",
       "    <tr>\n",
       "      <th>0</th>\n",
       "      <td>C2S/20220201/00019</td>\n",
       "      <td>[01/02/2022 06:38:03] [EXTERNO] BOTON DE AUXIL...</td>\n",
       "      <td></td>\n",
       "      <td></td>\n",
       "    </tr>\n",
       "    <tr>\n",
       "      <th>1</th>\n",
       "      <td>C5/20220201/01076</td>\n",
       "      <td>[01/02/2022 11:41:08] [STCPATB71] RADIO: REGIS...</td>\n",
       "      <td></td>\n",
       "      <td></td>\n",
       "    </tr>\n",
       "    <tr>\n",
       "      <th>2</th>\n",
       "      <td>C5/20220201/02479</td>\n",
       "      <td>[01/02/2022 18:33:22] [C51039856] SE HA REGIST...</td>\n",
       "      <td></td>\n",
       "      <td></td>\n",
       "    </tr>\n",
       "    <tr>\n",
       "      <th>3</th>\n",
       "      <td>C5/20220201/01776</td>\n",
       "      <td>[01/02/2022 15:11:54] [C5GAME93] SE HA REGISTR...</td>\n",
       "      <td></td>\n",
       "      <td></td>\n",
       "    </tr>\n",
       "    <tr>\n",
       "      <th>4</th>\n",
       "      <td>C5/20220201/01853</td>\n",
       "      <td>[01/02/2022 15:38:35] [C5GAME93] SE HA REGISTR...</td>\n",
       "      <td></td>\n",
       "      <td></td>\n",
       "    </tr>\n",
       "  </tbody>\n",
       "</table>\n",
       "</div>"
      ],
      "text/plain": [
       "                folio                                        comentarios  \\\n",
       "0  C2S/20220201/00019  [01/02/2022 06:38:03] [EXTERNO] BOTON DE AUXIL...   \n",
       "1   C5/20220201/01076  [01/02/2022 11:41:08] [STCPATB71] RADIO: REGIS...   \n",
       "2   C5/20220201/02479  [01/02/2022 18:33:22] [C51039856] SE HA REGIST...   \n",
       "3   C5/20220201/01776  [01/02/2022 15:11:54] [C5GAME93] SE HA REGISTR...   \n",
       "4   C5/20220201/01853  [01/02/2022 15:38:35] [C5GAME93] SE HA REGISTR...   \n",
       "\n",
       "  Motivo Motivo general  \n",
       "0                        \n",
       "1                        \n",
       "2                        \n",
       "3                        \n",
       "4                        "
      ]
     },
     "execution_count": 211,
     "metadata": {},
     "output_type": "execute_result"
    }
   ],
   "source": [
    "df.head()"
   ]
  },
  {
   "cell_type": "code",
   "execution_count": 214,
   "metadata": {},
   "outputs": [
    {
     "data": {
      "text/plain": [
       "10713    [2022-02-02 23:51:06]  [ANPR] sensor id: 55209...\n",
       "10714    [2022-02-02 00:02:28]  [ANPR] sensor id: 53210...\n",
       "10715    [2022-02-02 00:08:52]  [ANPR] sensor id: 55407...\n",
       "Name: comentarios, dtype: object"
      ]
     },
     "execution_count": 214,
     "metadata": {},
     "output_type": "execute_result"
    }
   ],
   "source": [
    "df['comentarios'][10713:10716]"
   ]
  },
  {
   "cell_type": "code",
   "execution_count": 181,
   "metadata": {},
   "outputs": [
    {
     "name": "stdout",
     "output_type": "stream",
     "text": [
      "10715 / 31795\r"
     ]
    },
    {
     "ename": "KeyError",
     "evalue": "10714",
     "output_type": "error",
     "traceback": [
      "\u001b[1;31m---------------------------------------------------------------------------\u001b[0m",
      "\u001b[1;31mKeyError\u001b[0m                                  Traceback (most recent call last)",
      "File \u001b[1;32mc:\\Users\\jddel\\miniconda3\\lib\\site-packages\\pandas\\core\\indexes\\base.py:3802\u001b[0m, in \u001b[0;36mIndex.get_loc\u001b[1;34m(self, key, method, tolerance)\u001b[0m\n\u001b[0;32m   3801\u001b[0m \u001b[39mtry\u001b[39;00m:\n\u001b[1;32m-> 3802\u001b[0m     \u001b[39mreturn\u001b[39;00m \u001b[39mself\u001b[39;49m\u001b[39m.\u001b[39;49m_engine\u001b[39m.\u001b[39;49mget_loc(casted_key)\n\u001b[0;32m   3803\u001b[0m \u001b[39mexcept\u001b[39;00m \u001b[39mKeyError\u001b[39;00m \u001b[39mas\u001b[39;00m err:\n",
      "File \u001b[1;32mc:\\Users\\jddel\\miniconda3\\lib\\site-packages\\pandas\\_libs\\index.pyx:138\u001b[0m, in \u001b[0;36mpandas._libs.index.IndexEngine.get_loc\u001b[1;34m()\u001b[0m\n",
      "File \u001b[1;32mc:\\Users\\jddel\\miniconda3\\lib\\site-packages\\pandas\\_libs\\index.pyx:165\u001b[0m, in \u001b[0;36mpandas._libs.index.IndexEngine.get_loc\u001b[1;34m()\u001b[0m\n",
      "File \u001b[1;32mpandas\\_libs\\hashtable_class_helper.pxi:2263\u001b[0m, in \u001b[0;36mpandas._libs.hashtable.Int64HashTable.get_item\u001b[1;34m()\u001b[0m\n",
      "File \u001b[1;32mpandas\\_libs\\hashtable_class_helper.pxi:2273\u001b[0m, in \u001b[0;36mpandas._libs.hashtable.Int64HashTable.get_item\u001b[1;34m()\u001b[0m\n",
      "\u001b[1;31mKeyError\u001b[0m: 10714",
      "\nThe above exception was the direct cause of the following exception:\n",
      "\u001b[1;31mKeyError\u001b[0m                                  Traceback (most recent call last)",
      "Cell \u001b[1;32mIn[181], line 6\u001b[0m\n\u001b[0;32m      4\u001b[0m \u001b[39mprint\u001b[39m(index, \u001b[39m'\u001b[39m\u001b[39m/\u001b[39m\u001b[39m'\u001b[39m, \u001b[39mlen\u001b[39m(df[\u001b[39m'\u001b[39m\u001b[39mcomentarios\u001b[39m\u001b[39m'\u001b[39m]), end\u001b[39m=\u001b[39m\u001b[39m'\u001b[39m\u001b[39m\\r\u001b[39;00m\u001b[39m'\u001b[39m)\n\u001b[0;32m      5\u001b[0m \u001b[39mfor\u001b[39;00m j \u001b[39min\u001b[39;00m \u001b[39mrange\u001b[39m(\u001b[39mlen\u001b[39m(motivos_s)):\n\u001b[1;32m----> 6\u001b[0m     \u001b[39mif\u001b[39;00m motivos_s[j][\u001b[39m0\u001b[39m] \u001b[39min\u001b[39;00m df[\u001b[39m'\u001b[39;49m\u001b[39mcomentarios\u001b[39;49m\u001b[39m'\u001b[39;49m][i] \u001b[39mor\u001b[39;00m motivos_ss[j] \u001b[39min\u001b[39;00m df[\u001b[39m'\u001b[39m\u001b[39mcomentarios\u001b[39m\u001b[39m'\u001b[39m][i]:\n\u001b[0;32m      7\u001b[0m         df[\u001b[39m'\u001b[39m\u001b[39mMotivo\u001b[39m\u001b[39m'\u001b[39m][i] \u001b[39m=\u001b[39m \u001b[39mstr\u001b[39m(motivos_s[j][\u001b[39m0\u001b[39m])\n\u001b[0;32m      8\u001b[0m         \u001b[39mbreak\u001b[39;00m\n",
      "File \u001b[1;32mc:\\Users\\jddel\\miniconda3\\lib\\site-packages\\pandas\\core\\series.py:981\u001b[0m, in \u001b[0;36mSeries.__getitem__\u001b[1;34m(self, key)\u001b[0m\n\u001b[0;32m    978\u001b[0m     \u001b[39mreturn\u001b[39;00m \u001b[39mself\u001b[39m\u001b[39m.\u001b[39m_values[key]\n\u001b[0;32m    980\u001b[0m \u001b[39melif\u001b[39;00m key_is_scalar:\n\u001b[1;32m--> 981\u001b[0m     \u001b[39mreturn\u001b[39;00m \u001b[39mself\u001b[39;49m\u001b[39m.\u001b[39;49m_get_value(key)\n\u001b[0;32m    983\u001b[0m \u001b[39mif\u001b[39;00m is_hashable(key):\n\u001b[0;32m    984\u001b[0m     \u001b[39m# Otherwise index.get_value will raise InvalidIndexError\u001b[39;00m\n\u001b[0;32m    985\u001b[0m     \u001b[39mtry\u001b[39;00m:\n\u001b[0;32m    986\u001b[0m         \u001b[39m# For labels that don't resolve as scalars like tuples and frozensets\u001b[39;00m\n",
      "File \u001b[1;32mc:\\Users\\jddel\\miniconda3\\lib\\site-packages\\pandas\\core\\series.py:1089\u001b[0m, in \u001b[0;36mSeries._get_value\u001b[1;34m(self, label, takeable)\u001b[0m\n\u001b[0;32m   1086\u001b[0m     \u001b[39mreturn\u001b[39;00m \u001b[39mself\u001b[39m\u001b[39m.\u001b[39m_values[label]\n\u001b[0;32m   1088\u001b[0m \u001b[39m# Similar to Index.get_value, but we do not fall back to positional\u001b[39;00m\n\u001b[1;32m-> 1089\u001b[0m loc \u001b[39m=\u001b[39m \u001b[39mself\u001b[39;49m\u001b[39m.\u001b[39;49mindex\u001b[39m.\u001b[39;49mget_loc(label)\n\u001b[0;32m   1090\u001b[0m \u001b[39mreturn\u001b[39;00m \u001b[39mself\u001b[39m\u001b[39m.\u001b[39mindex\u001b[39m.\u001b[39m_get_values_for_loc(\u001b[39mself\u001b[39m, loc, label)\n",
      "File \u001b[1;32mc:\\Users\\jddel\\miniconda3\\lib\\site-packages\\pandas\\core\\indexes\\base.py:3804\u001b[0m, in \u001b[0;36mIndex.get_loc\u001b[1;34m(self, key, method, tolerance)\u001b[0m\n\u001b[0;32m   3802\u001b[0m     \u001b[39mreturn\u001b[39;00m \u001b[39mself\u001b[39m\u001b[39m.\u001b[39m_engine\u001b[39m.\u001b[39mget_loc(casted_key)\n\u001b[0;32m   3803\u001b[0m \u001b[39mexcept\u001b[39;00m \u001b[39mKeyError\u001b[39;00m \u001b[39mas\u001b[39;00m err:\n\u001b[1;32m-> 3804\u001b[0m     \u001b[39mraise\u001b[39;00m \u001b[39mKeyError\u001b[39;00m(key) \u001b[39mfrom\u001b[39;00m \u001b[39merr\u001b[39;00m\n\u001b[0;32m   3805\u001b[0m \u001b[39mexcept\u001b[39;00m \u001b[39mTypeError\u001b[39;00m:\n\u001b[0;32m   3806\u001b[0m     \u001b[39m# If we have a listlike key, _check_indexing_error will raise\u001b[39;00m\n\u001b[0;32m   3807\u001b[0m     \u001b[39m#  InvalidIndexError. Otherwise we fall through and re-raise\u001b[39;00m\n\u001b[0;32m   3808\u001b[0m     \u001b[39m#  the TypeError.\u001b[39;00m\n\u001b[0;32m   3809\u001b[0m     \u001b[39mself\u001b[39m\u001b[39m.\u001b[39m_check_indexing_error(key)\n",
      "\u001b[1;31mKeyError\u001b[0m: 10714"
     ]
    }
   ],
   "source": [
    "index=0\n",
    "for i in range(len(df['comentarios'])):\n",
    "    index+=1\n",
    "    print(index, '/', len(df['comentarios']), end='\\r')\n",
    "    for j in range(len(motivos_s)):\n",
    "        if motivos_s[j][0] in df['comentarios'][i] or motivos_ss[j] in df['comentarios'][i]:\n",
    "            df['Motivo'][i] = str(motivos_s[j][0])\n",
    "            break\n",
    "        elif re.search('F\\s*A\\s*L\\s*S\\s*(A|O)(.*A\\s*L\\s*A\\s*R\\s*M\\s*A)?', df['comentarios'][i], re.MULTILINE | re.IGNORECASE) or 'FALLA EN EL SISTEMA' in df['comentarios'][i]:\n",
    "            df['Motivo'][i] = 'FALSA-ALARMA'\n",
    "        elif re.search('I\\s*N\\s*F\\s*O\\s*R\\s*M\\s*A\\s*T\\s*I\\s*V\\s*O', df['comentarios'][i], re.MULTILINE | re.IGNORECASE):\n",
    "            df['Motivo'][i] = 'INFORMATIVO'\n",
    "        elif re.search('F\\s*O\\s*L\\s*I\\s*O\\s*D\\s*U\\s*P\\s*L\\s*I\\s*C\\s*A\\s*D\\s*O', df['comentarios'][i], re.MULTILINE | re.IGNORECASE):\n",
    "            df['Motivo'][i] = 'FOLIO DUPLICADO'\n",
    "        else:\n",
    "            df['Motivo'][i] = np.nan"
   ]
  },
  {
   "cell_type": "code",
   "execution_count": 132,
   "metadata": {},
   "outputs": [
    {
     "data": {
      "text/plain": [
       "FALSA-ALARMA                          1217\n",
       "SERVICIOS-ENTREVISTA CIUDADANA         392\n",
       "AGRESION-PERSONA                       305\n",
       "ACCIDENTE-CHOQUE SIN LESIONADOS        222\n",
       "DENUNCIA-PERSONA SOSPECHOSA            209\n",
       "                                      ... \n",
       "ACCIDENTE-VEHICULO DESBARRANCADO         1\n",
       "ACCIDENTE-VEHICULO ATRAPADO-VARADO       1\n",
       "ROBO-A TAXISTA                           1\n",
       "ROBO-CABLE                               1\n",
       "CADAVER-ATRAGANTAMIENTO-ASFIXIA          1\n",
       "Name: Motivo, Length: 182, dtype: int64"
      ]
     },
     "execution_count": 132,
     "metadata": {},
     "output_type": "execute_result"
    }
   ],
   "source": [
    "df['Motivo'].value_counts()"
   ]
  },
  {
   "cell_type": "code",
   "execution_count": 135,
   "metadata": {},
   "outputs": [],
   "source": [
    "df = df.dropna(subset=['Motivo'])"
   ]
  },
  {
   "cell_type": "code",
   "execution_count": null,
   "metadata": {},
   "outputs": [],
   "source": [
    "df_grouped = df.groupby('Motivo')"
   ]
  },
  {
   "cell_type": "code",
   "execution_count": 136,
   "metadata": {},
   "outputs": [],
   "source": [
    "#guardar el df en un archivo xlsx\n",
    "df.to_excel('bitacora etiquetada.xlsx', index=False)"
   ]
  },
  {
   "cell_type": "code",
   "execution_count": 79,
   "metadata": {},
   "outputs": [
    {
     "name": "stdout",
     "output_type": "stream",
     "text": [
      "1 / 5746\r"
     ]
    }
   ],
   "source": [
    "import spacy\n",
    "from spacy.lang.es.examples import sentences \n",
    "# !python -m spacy download es_core_news_sm\n",
    "nlp = spacy.load(\"es_core_news_sm\")\n",
    "\n",
    "comentarios_lema = []\n",
    "tags = ['PROPN', 'AUX', 'NOUN', 'PUNCT', 'ADP', 'DET', 'SPACE']\n",
    "i=0\n",
    "for comentario in df['comentarios'][:1]:\n",
    "    i+=1\n",
    "    print(i, \"/\", len(df), end='\\r')\n",
    "    doc = nlp(comentario)\n",
    "    comentario_aux = ''\n",
    "    for token in doc:\n",
    "        if token.pos_ not in tags:\n",
    "            comentario_aux += token.text + '\\t' + token.pos_ + '\\n'\n",
    "    comentarios_lema.append(comentario_aux)"
   ]
  },
  {
   "cell_type": "code",
   "execution_count": 81,
   "metadata": {},
   "outputs": [],
   "source": [
    "\n",
    "with open('comentarios_lema.txt', 'w', encoding='utf-8') as f:\n",
    "    for comentario in comentarios_lema:\n",
    "        f.write(comentario)\n"
   ]
  }
 ],
 "metadata": {
  "kernelspec": {
   "display_name": "base",
   "language": "python",
   "name": "python3"
  },
  "language_info": {
   "codemirror_mode": {
    "name": "ipython",
    "version": 3
   },
   "file_extension": ".py",
   "mimetype": "text/x-python",
   "name": "python",
   "nbconvert_exporter": "python",
   "pygments_lexer": "ipython3",
   "version": "3.10.8"
  },
  "orig_nbformat": 4,
  "vscode": {
   "interpreter": {
    "hash": "b350b301ab686cc38c89757293f17f33d256656378ea8ac36012022ad524cef5"
   }
  }
 },
 "nbformat": 4,
 "nbformat_minor": 2
}
