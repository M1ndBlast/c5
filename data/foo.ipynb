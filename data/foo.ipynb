{
 "cells": [
  {
   "cell_type": "code",
   "execution_count": 8,
   "metadata": {},
   "outputs": [
    {
     "name": "stdout",
     "output_type": "stream",
     "text": [
      "Requirement already satisfied: xlsxwriter in c:\\users\\m1ndblast\\.conda\\envs\\c5\\lib\\site-packages (3.0.8)\n",
      "Requirement already satisfied: openpyxl in c:\\users\\m1ndblast\\.conda\\envs\\c5\\lib\\site-packages (3.1.1)\n",
      "Requirement already satisfied: et-xmlfile in c:\\users\\m1ndblast\\.conda\\envs\\c5\\lib\\site-packages (from openpyxl) (1.1.0)\n"
     ]
    }
   ],
   "source": [
    "# Install xlsxwriter & openpyxl if you don't have it\n",
    "# !pip install xlsxwriter openpyxl\n",
    "\n",
    "import pandas as pd\n",
    "\n",
    "PATH_DATA = '../'\n",
    "# Create a sample dataframe\n",
    "data = pd.read_excel(PATH_DATA+'Folios_boton_promad_2023-02-12.xlsx', dtype=str, sheet_name='Folios')\n",
    "data.head()"
   ]
  },
  {
   "attachments": {},
   "cell_type": "markdown",
   "metadata": {},
   "source": [
    "## Tabla - Códigos de Cierre"
   ]
  },
  {
   "attachments": {},
   "cell_type": "markdown",
   "metadata": {},
   "source": [
    "### Creación"
   ]
  },
  {
   "cell_type": "code",
   "execution_count": 45,
   "metadata": {
    "notebookRunGroups": {
     "groupValue": "1"
    }
   },
   "outputs": [],
   "source": [
    "# Create a pivot table\n",
    "pivot_table = pd.pivot_table(\n",
    "    data[data['C2_INICIO']=='C2 PONIENTE'], \n",
    "    values='FOLIO', \n",
    "    index='CODIGO_MOTIVO_CIERRE_INSTITUCION', \n",
    "    columns=['mes_cierre', 'sin_corregir'], \n",
    "    margins=True, margins_name='TOTAL',\n",
    "    aggfunc='count', fill_value=0\n",
    ")\n",
    "\n",
    "# Drop any coloumns where pair is (Any, 'Corregido')\n",
    "pivot_table = pivot_table.drop(columns='Corregido', level=1)\n",
    "# Sum again column TOTAL to get the total of the row\n",
    "pivot_table['TOTAL'] = pivot_table.sum(axis=1)\n",
    "# Rename index to Código de cierre\n",
    "pivot_table.index.name = 'Código de Cierre'"
   ]
  },
  {
   "cell_type": "code",
   "execution_count": 46,
   "metadata": {
    "notebookRunGroups": {
     "groupValue": "1"
    }
   },
   "outputs": [
    {
     "name": "stdout",
     "output_type": "stream",
     "text": [
      "MultiIndex([('Código de Cierre',             ''),\n",
      "            (       'Diciembre', 'Sin corregir'),\n",
      "            (           'Enero', 'Sin corregir'),\n",
      "            (         'Febrero', 'Sin corregir'),\n",
      "            (           'TOTAL',             '')],\n",
      "           names=['mes_cierre', 'sin_corregir'])\n"
     ]
    },
    {
     "data": {
      "text/html": [
       "<div>\n",
       "<style scoped>\n",
       "    .dataframe tbody tr th:only-of-type {\n",
       "        vertical-align: middle;\n",
       "    }\n",
       "\n",
       "    .dataframe tbody tr th {\n",
       "        vertical-align: top;\n",
       "    }\n",
       "\n",
       "    .dataframe thead tr th {\n",
       "        text-align: left;\n",
       "    }\n",
       "</style>\n",
       "<table border=\"1\" class=\"dataframe\">\n",
       "  <thead>\n",
       "    <tr>\n",
       "      <th>mes_cierre</th>\n",
       "      <th>Código de Cierre</th>\n",
       "      <th>Diciembre</th>\n",
       "      <th>Enero</th>\n",
       "      <th>Febrero</th>\n",
       "      <th>TOTAL</th>\n",
       "    </tr>\n",
       "    <tr>\n",
       "      <th>sin_corregir</th>\n",
       "      <th></th>\n",
       "      <th>Sin corregir</th>\n",
       "      <th>Sin corregir</th>\n",
       "      <th>Sin corregir</th>\n",
       "      <th></th>\n",
       "    </tr>\n",
       "  </thead>\n",
       "  <tbody>\n",
       "    <tr>\n",
       "      <th>0</th>\n",
       "      <td>ACI</td>\n",
       "      <td>3</td>\n",
       "      <td>2</td>\n",
       "      <td>4</td>\n",
       "      <td>9</td>\n",
       "    </tr>\n",
       "    <tr>\n",
       "      <th>1</th>\n",
       "      <td>ASI</td>\n",
       "      <td>41</td>\n",
       "      <td>26</td>\n",
       "      <td>19</td>\n",
       "      <td>86</td>\n",
       "    </tr>\n",
       "    <tr>\n",
       "      <th>2</th>\n",
       "      <td>CM</td>\n",
       "      <td>0</td>\n",
       "      <td>0</td>\n",
       "      <td>0</td>\n",
       "      <td>0</td>\n",
       "    </tr>\n",
       "    <tr>\n",
       "      <th>3</th>\n",
       "      <td>D</td>\n",
       "      <td>41</td>\n",
       "      <td>19</td>\n",
       "      <td>3</td>\n",
       "      <td>63</td>\n",
       "    </tr>\n",
       "    <tr>\n",
       "      <th>4</th>\n",
       "      <td>F</td>\n",
       "      <td>17</td>\n",
       "      <td>9</td>\n",
       "      <td>9</td>\n",
       "      <td>35</td>\n",
       "    </tr>\n",
       "    <tr>\n",
       "      <th>5</th>\n",
       "      <td>I</td>\n",
       "      <td>2</td>\n",
       "      <td>3</td>\n",
       "      <td>1</td>\n",
       "      <td>6</td>\n",
       "    </tr>\n",
       "    <tr>\n",
       "      <th>6</th>\n",
       "      <td>SUB TOTAL</td>\n",
       "      <td>104</td>\n",
       "      <td>59</td>\n",
       "      <td>36</td>\n",
       "      <td>199</td>\n",
       "    </tr>\n",
       "    <tr>\n",
       "      <th>7</th>\n",
       "      <td>SYS</td>\n",
       "      <td>163</td>\n",
       "      <td>124</td>\n",
       "      <td>107</td>\n",
       "      <td>394</td>\n",
       "    </tr>\n",
       "    <tr>\n",
       "      <th>8</th>\n",
       "      <td>TOTAL</td>\n",
       "      <td>267</td>\n",
       "      <td>183</td>\n",
       "      <td>143</td>\n",
       "      <td>593</td>\n",
       "    </tr>\n",
       "  </tbody>\n",
       "</table>\n",
       "</div>"
      ],
      "text/plain": [
       "mes_cierre   Código de Cierre    Diciembre        Enero      Febrero TOTAL\n",
       "sin_corregir                  Sin corregir Sin corregir Sin corregir      \n",
       "0                         ACI            3            2            4     9\n",
       "1                         ASI           41           26           19    86\n",
       "2                          CM            0            0            0     0\n",
       "3                           D           41           19            3    63\n",
       "4                           F           17            9            9    35\n",
       "5                           I            2            3            1     6\n",
       "6                   SUB TOTAL          104           59           36   199\n",
       "7                         SYS          163          124          107   394\n",
       "8                       TOTAL          267          183          143   593"
      ]
     },
     "execution_count": 46,
     "metadata": {},
     "output_type": "execute_result"
    }
   ],
   "source": [
    "# Generating the table content\n",
    "\n",
    "pivot_table_final = pivot_table.loc[:'SYS'][:-1]\n",
    "pivot_table_final.loc['SUB TOTAL'] = pivot_table_final.sum()\n",
    "pivot_table_final = pd.concat([pivot_table_final, pivot_table.loc['SYS':]])\n",
    "pivot_table = pivot_table_final\n",
    "\n",
    "# Sum as int\n",
    "pivot_table['TOTAL'] = pivot_table.drop(columns='TOTAL').sum(axis=1).astype(int)\n",
    "pivot_table.reset_index(inplace=True)\n",
    "print(pivot_table.columns)\n",
    "pivot_table"
   ]
  },
  {
   "attachments": {},
   "cell_type": "markdown",
   "metadata": {},
   "source": [
    "### Formato"
   ]
  },
  {
   "cell_type": "code",
   "execution_count": 47,
   "metadata": {},
   "outputs": [
    {
     "data": {
      "text/html": [
       "<div>\n",
       "<style scoped>\n",
       "    .dataframe tbody tr th:only-of-type {\n",
       "        vertical-align: middle;\n",
       "    }\n",
       "\n",
       "    .dataframe tbody tr th {\n",
       "        vertical-align: top;\n",
       "    }\n",
       "\n",
       "    .dataframe thead tr th {\n",
       "        text-align: left;\n",
       "    }\n",
       "</style>\n",
       "<table border=\"1\" class=\"dataframe\">\n",
       "  <thead>\n",
       "    <tr>\n",
       "      <th></th>\n",
       "      <th>Código de Cierre</th>\n",
       "      <th colspan=\"3\" halign=\"left\">Sin Reclasificar</th>\n",
       "      <th>TOTAL</th>\n",
       "    </tr>\n",
       "    <tr>\n",
       "      <th></th>\n",
       "      <th></th>\n",
       "      <th>DIC</th>\n",
       "      <th>ENE</th>\n",
       "      <th>FEB</th>\n",
       "      <th></th>\n",
       "    </tr>\n",
       "  </thead>\n",
       "  <tbody>\n",
       "    <tr>\n",
       "      <th>0</th>\n",
       "      <td>ACI</td>\n",
       "      <td>3</td>\n",
       "      <td>2</td>\n",
       "      <td>4</td>\n",
       "      <td>9</td>\n",
       "    </tr>\n",
       "    <tr>\n",
       "      <th>1</th>\n",
       "      <td>ASI</td>\n",
       "      <td>41</td>\n",
       "      <td>26</td>\n",
       "      <td>19</td>\n",
       "      <td>86</td>\n",
       "    </tr>\n",
       "    <tr>\n",
       "      <th>2</th>\n",
       "      <td>CM</td>\n",
       "      <td>0</td>\n",
       "      <td>0</td>\n",
       "      <td>0</td>\n",
       "      <td>0</td>\n",
       "    </tr>\n",
       "    <tr>\n",
       "      <th>3</th>\n",
       "      <td>D</td>\n",
       "      <td>41</td>\n",
       "      <td>19</td>\n",
       "      <td>3</td>\n",
       "      <td>63</td>\n",
       "    </tr>\n",
       "    <tr>\n",
       "      <th>4</th>\n",
       "      <td>F</td>\n",
       "      <td>17</td>\n",
       "      <td>9</td>\n",
       "      <td>9</td>\n",
       "      <td>35</td>\n",
       "    </tr>\n",
       "    <tr>\n",
       "      <th>5</th>\n",
       "      <td>I</td>\n",
       "      <td>2</td>\n",
       "      <td>3</td>\n",
       "      <td>1</td>\n",
       "      <td>6</td>\n",
       "    </tr>\n",
       "    <tr>\n",
       "      <th>6</th>\n",
       "      <td>SUB TOTAL</td>\n",
       "      <td>104</td>\n",
       "      <td>59</td>\n",
       "      <td>36</td>\n",
       "      <td>199</td>\n",
       "    </tr>\n",
       "    <tr>\n",
       "      <th>7</th>\n",
       "      <td>SYS</td>\n",
       "      <td>163</td>\n",
       "      <td>124</td>\n",
       "      <td>107</td>\n",
       "      <td>394</td>\n",
       "    </tr>\n",
       "    <tr>\n",
       "      <th>8</th>\n",
       "      <td>TOTAL</td>\n",
       "      <td>267</td>\n",
       "      <td>183</td>\n",
       "      <td>143</td>\n",
       "      <td>593</td>\n",
       "    </tr>\n",
       "  </tbody>\n",
       "</table>\n",
       "</div>"
      ],
      "text/plain": [
       "  Código de Cierre Sin Reclasificar           TOTAL\n",
       "                                DIC  ENE  FEB      \n",
       "0              ACI                3    2    4     9\n",
       "1              ASI               41   26   19    86\n",
       "2               CM                0    0    0     0\n",
       "3                D               41   19    3    63\n",
       "4                F               17    9    9    35\n",
       "5                I                2    3    1     6\n",
       "6        SUB TOTAL              104   59   36   199\n",
       "7              SYS              163  124  107   394\n",
       "8            TOTAL              267  183  143   593"
      ]
     },
     "execution_count": 47,
     "metadata": {},
     "output_type": "execute_result"
    }
   ],
   "source": [
    "# Formatting the table\n",
    "\n",
    "# 1. Set columns in level 2 Months from level 1 in uppercase only first 3 letters\n",
    "pivot_table.columns = pd.MultiIndex.from_tuples(\n",
    "    [((col[1], col[0][:3].upper()) if (i+1<len(pivot_table.columns) and i>0) else (col[0],col[1])) for i, col in enumerate(pivot_table.columns)]\n",
    ")\n",
    "\n",
    "# 2. Rename columns in level 0 where 'Sin Corregir' to 'Sin Reclasificar'\n",
    "pivot_table.columns = pd.MultiIndex.from_tuples(\n",
    "    [('Sin Reclasificar', col[1]) if col[0]=='Sin corregir' else col for col in pivot_table.columns]\n",
    ")\n",
    "pivot_table"
   ]
  },
  {
   "cell_type": "code",
   "execution_count": 49,
   "metadata": {},
   "outputs": [
    {
     "data": {
      "text/plain": [
       "RangeIndex(start=0, stop=9, step=1)"
      ]
     },
     "execution_count": 49,
     "metadata": {},
     "output_type": "execute_result"
    }
   ],
   "source": [
    "pivot_table.index"
   ]
  },
  {
   "cell_type": "code",
   "execution_count": 67,
   "metadata": {},
   "outputs": [
    {
     "name": "stderr",
     "output_type": "stream",
     "text": [
      "C:\\Users\\M1ndBlast\\AppData\\Local\\Temp\\ipykernel_10984\\3502774731.py:18: FutureWarning: save is not part of the public API, usage can give unexpected results and will be removed in a future version\n",
      "  writer.save()\n"
     ]
    }
   ],
   "source": [
    "\n",
    "# # Write the pivot table to an Excel file\n",
    "writer = pd.ExcelWriter('pivot_table.xlsx', engine='xlsxwriter')\n",
    "pivot_table.to_excel(writer, sheet_name='Tabla Código de Cierre')\n",
    "\n",
    "workbook = writer.book\n",
    "worksheet = writer.sheets['Tabla Código de Cierre']\n",
    "\n",
    "# Drop column A \n",
    "worksheet.set_column(0, 0, 1)\n",
    "# Merge cells from A1 to A2 if A2 is not empty\n",
    "\n",
    "# for i in range(1, len(pivot_table.index)):\n",
    "# \tif pivot_table.iloc[i,1] != '':\n",
    "# \t\tworksheet.merge_range(f'A{i+1}:A{i+2}', pivot_table.iloc[i,0], workbook.add_format({'bold': True, 'align': 'center', 'valign': 'vcenter'}))\n",
    "\n",
    "\n",
    "\n",
    "writer.save()"
   ]
  }
 ],
 "metadata": {
  "kernelspec": {
   "display_name": "c5",
   "language": "python",
   "name": "python3"
  },
  "language_info": {
   "codemirror_mode": {
    "name": "ipython",
    "version": 3
   },
   "file_extension": ".py",
   "mimetype": "text/x-python",
   "name": "python",
   "nbconvert_exporter": "python",
   "pygments_lexer": "ipython3",
   "version": "3.10.9"
  },
  "orig_nbformat": 4,
  "vscode": {
   "interpreter": {
    "hash": "31e69716cb25b15e196e36d862dc16f39614362d788ece2c262143c2e716c36f"
   }
  }
 },
 "nbformat": 4,
 "nbformat_minor": 2
}
