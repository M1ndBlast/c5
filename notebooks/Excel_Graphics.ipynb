{
 "cells": [
  {
   "cell_type": "code",
   "execution_count": null,
   "metadata": {},
   "outputs": [],
   "source": [
    "# Install xlsxwriter & openpyxl if you don't have it\n",
    "# !pip install xlsxwriter openpyxl\n",
    "\n",
    "import pandas as pd\n",
    "\n",
    "PATH_DATA = '../'\n",
    "# Create a sample dataframe\n",
    "data = pd.read_excel(PATH_DATA+'Folios_boton_promad_2023-02-12.xlsx', dtype=str, sheet_name='Folios')\n",
    "data.head()"
   ]
  },
  {
   "attachments": {},
   "cell_type": "markdown",
   "metadata": {},
   "source": [
    "## Tabla - Códigos de Cierre"
   ]
  },
  {
   "attachments": {},
   "cell_type": "markdown",
   "metadata": {},
   "source": [
    "### Creación"
   ]
  },
  {
   "cell_type": "code",
   "execution_count": null,
   "metadata": {
    "notebookRunGroups": {
     "groupValue": "1"
    }
   },
   "outputs": [],
   "source": [
    "# Create a pivot table\n",
    "pivot_table = pd.pivot_table(\n",
    "    data[data['C2_INICIO']=='C2 PONIENTE'], \n",
    "    values='FOLIO', \n",
    "    index='CODIGO_MOTIVO_CIERRE_INSTITUCION', \n",
    "    columns=['mes_cierre', 'sin_corregir'], \n",
    "    margins=True, margins_name='TOTAL',\n",
    "    aggfunc='count', fill_value=0\n",
    ")\n",
    "\n",
    "# Drop any coloumns where pair is (Any, 'Corregido')\n",
    "pivot_table = pivot_table.drop(columns='Corregido', level=1)\n",
    "# Sum again column TOTAL to get the total of the row\n",
    "pivot_table['TOTAL'] = pivot_table.sum(axis=1)\n",
    "# Rename index to Código de cierre\n",
    "pivot_table.index.name = 'Código de Cierre'"
   ]
  },
  {
   "cell_type": "code",
   "execution_count": null,
   "metadata": {
    "notebookRunGroups": {
     "groupValue": "1"
    }
   },
   "outputs": [],
   "source": [
    "# Generating the table content\n",
    "\n",
    "pivot_table_final = pivot_table.loc[:'SYS'][:-1]\n",
    "pivot_table_final.loc['SUB TOTAL'] = pivot_table_final.sum()\n",
    "pivot_table_final = pd.concat([pivot_table_final, pivot_table.loc['SYS':]])\n",
    "pivot_table = pivot_table_final\n",
    "\n",
    "# Sum as int\n",
    "pivot_table['TOTAL'] = pivot_table.drop(columns='TOTAL').sum(axis=1).astype(int)\n",
    "pivot_table.reset_index(inplace=True)\n",
    "print(pivot_table.columns)\n",
    "pivot_table"
   ]
  },
  {
   "attachments": {},
   "cell_type": "markdown",
   "metadata": {},
   "source": [
    "### Formato"
   ]
  },
  {
   "cell_type": "code",
   "execution_count": null,
   "metadata": {},
   "outputs": [],
   "source": [
    "# Formatting the table\n",
    "\n",
    "# 1. Set columns in level 2 Months from level 1 in uppercase only first 3 letters\n",
    "pivot_table.columns = pd.MultiIndex.from_tuples(\n",
    "    [((col[1], col[0][:3].upper()) if (i+1<len(pivot_table.columns) and i>0) else (col[0],col[1])) for i, col in enumerate(pivot_table.columns)]\n",
    ")\n",
    "\n",
    "# 2. Rename columns in level 0 where 'Sin Corregir' to 'Sin Reclasificar'\n",
    "pivot_table.columns = pd.MultiIndex.from_tuples(\n",
    "    [('Sin Reclasificar', col[1]) if col[0]=='Sin corregir' else col for col in pivot_table.columns]\n",
    ")\n",
    "pivot_table"
   ]
  },
  {
   "cell_type": "code",
   "execution_count": null,
   "metadata": {},
   "outputs": [],
   "source": [
    "pivot_table.index"
   ]
  },
  {
   "cell_type": "code",
   "execution_count": null,
   "metadata": {},
   "outputs": [],
   "source": [
    "\n",
    "# # Write the pivot table to an Excel file\n",
    "writer = pd.ExcelWriter('pivot_table.xlsx', engine='xlsxwriter')\n",
    "pivot_table.to_excel(writer, sheet_name='Tabla Código de Cierre')\n",
    "\n",
    "workbook = writer.book\n",
    "worksheet = writer.sheets['Tabla Código de Cierre']\n",
    "\n",
    "# Drop column A \n",
    "worksheet.set_column(0, 0, 1)\n",
    "# Merge cells from A1 to A2 if A2 is not empty\n",
    "\n",
    "# for i in range(1, len(pivot_table.index)):\n",
    "# \tif pivot_table.iloc[i,1] != '':\n",
    "# \t\tworksheet.merge_range(f'A{i+1}:A{i+2}', pivot_table.iloc[i,0], workbook.add_format({'bold': True, 'align': 'center', 'valign': 'vcenter'}))\n",
    "\n",
    "\n",
    "\n",
    "writer.save()"
   ]
  },
  {
   "cell_type": "code",
   "execution_count": null,
   "metadata": {},
   "outputs": [],
   "source": [
    "\n",
    "\n",
    "import pandas as pd\n",
    "from openpyxl import load_workbook\n",
    "from openpyxl.styles import PatternFill, Border, Side\n",
    "\n",
    "PATH_DATA = '../'\n",
    "file = 'Folios_boton_promad_2023-02-12.xlsx'\n",
    "\n",
    "# Leer el archivo excel\n",
    "file = \"Folios_boton_promad_2023-02-12.xlsx\"\n",
    "df = pd.read_excel(PATH_DATA+file, sheet_name=\"Folios\")#, dtype=str)\n",
    "\n",
    "# Crear la tabla dinámica\n",
    "pivot_table = df.pivot_table(\n",
    "    index=\"C2_INICIO\",\n",
    "    columns=[\"mes_cierre\", \"sin_corregir\"],\n",
    "    values=\"FOLIO\",\n",
    "    aggfunc=\"count\",\n",
    "    fill_value=0,\n",
    "    margins=True,\n",
    "    margins_name=\"Total general\",\n",
    ")\n",
    "\n",
    "# Guardar la tabla dinámica en un nuevo archivo Excel\n",
    "output_file = \"PivotTable_CodigosCierre.xlsx\"\n",
    "pivot_table.to_excel(output_file)\n",
    "\n",
    "# Aplicar la personalización requerida\n",
    "wb = load_workbook(output_file)\n",
    "ws = wb.active\n",
    "\n",
    "# Personalizar celdas 'TOTAL' y 'SIN RECLASIFICAR'\n",
    "total_fill = PatternFill(start_color=\"00FF00\", end_color=\"00FF00\", fill_type=\"solid\")\n",
    "sin_reclasificar_fill = PatternFill(start_color=\"FF0000\", end_color=\"FF0000\", fill_type=\"solid\")\n",
    "\n",
    "ws.merge_cells(\"B1:E1\")\n",
    "ws[\"B1\"] = \"TOTAL\"\n",
    "ws[\"B1\"].fill = total_fill\n",
    "\n",
    "ws.merge_cells(\"F1:H1\")\n",
    "ws[\"F1\"] = \"SIN RECLASIFICAR\"\n",
    "ws[\"F1\"].fill = sin_reclasificar_fill\n",
    "\n",
    "# Resaltar filas según la variable RESALTAR\n",
    "resaltar = \"C2 NORTE\"  # Cambia esta variable según tus necesidades\n",
    "border = Border(left=Side(style=\"thin\"), right=Side(style=\"thin\"), top=Side(style=\"thin\"), bottom=Side(style=\"thin\"))\n",
    "\n",
    "for row in ws.iter_rows(min_row=2, max_row=7):\n",
    "    if row[0].value == resaltar:\n",
    "        for cell in row:\n",
    "            cell.border = border\n",
    "\n",
    "# Guardar los cambios\n",
    "wb.save(output_file)\n"
   ]
  },
  {
   "cell_type": "code",
   "execution_count": null,
   "metadata": {},
   "outputs": [],
   "source": []
  }
 ],
 "metadata": {
  "kernelspec": {
   "display_name": "c5",
   "language": "python",
   "name": "python3"
  },
  "language_info": {
   "codemirror_mode": {
    "name": "ipython",
    "version": 3
   },
   "file_extension": ".py",
   "mimetype": "text/x-python",
   "name": "python",
   "nbconvert_exporter": "python",
   "pygments_lexer": "ipython3",
   "version": "3.11.2"
  },
  "orig_nbformat": 4,
  "vscode": {
   "interpreter": {
    "hash": "31e69716cb25b15e196e36d862dc16f39614362d788ece2c262143c2e716c36f"
   }
  }
 },
 "nbformat": 4,
 "nbformat_minor": 2
}
