{
 "cells": [
  {
   "cell_type": "code",
   "execution_count": null,
   "metadata": {},
   "outputs": [],
   "source": [
    "import math, time \n",
    "import numpy as np\n",
    "import pandas as pd\n",
    "import matplotlib.pyplot as plt\n",
    "from pmdarima.arima import auto_arima, ADFTest\n",
    "from sklearn.metrics import classification_report, mean_absolute_error, mean_squared_error\n",
    "from mutil import *\n",
    "\n",
    "\n",
    "import warnings\n",
    "warnings.filterwarnings('ignore')"
   ]
  },
  {
   "cell_type": "code",
   "execution_count": null,
   "metadata": {},
   "outputs": [],
   "source": [
    "# Funcion que convierte los segundos en formato hh:mm:ss\n",
    "def seconds_to_time(seconds:float):\n",
    "    seconds = int(seconds)\n",
    "    hours = math.floor(seconds / 3600)\n",
    "    seconds = seconds - hours * 3600\n",
    "    minutes = math.floor(seconds / 60)\n",
    "    seconds = seconds - minutes * 60\n",
    "    return f'{hours:02d}:{minutes:02d}:{seconds:02d}'"
   ]
  },
  {
   "cell_type": "code",
   "execution_count": null,
   "metadata": {},
   "outputs": [],
   "source": []
  },
  {
   "attachments": {},
   "cell_type": "markdown",
   "metadata": {},
   "source": [
    "### Cargar los datasets"
   ]
  },
  {
   "cell_type": "code",
   "execution_count": null,
   "metadata": {},
   "outputs": [],
   "source": [
    "df_delitos, df_camaras = load_data()\n",
    "df_delitos = preprocess_data(df_delitos, df_camaras)"
   ]
  },
  {
   "attachments": {},
   "cell_type": "markdown",
   "metadata": {},
   "source": [
    "### Filtros"
   ]
  },
  {
   "cell_type": "code",
   "execution_count": null,
   "metadata": {},
   "outputs": [],
   "source": [
    "# Cuenta el número de ocurrencias de cada delito\n",
    "incidentes_c4_frecuencia = df_delitos['incidente_c4'].value_counts().sort_values(ascending=False)\n",
    "\n",
    "# Filtrar df_delitos por los 10 delitos más frecuentes\n",
    "df_delitos = df_delitos[df_delitos['incidente_c4'].isin(incidentes_c4_frecuencia.index[:10])]\n",
    "# Filtrar df_delitos por las camaras que no empiecen con 'MC'\n",
    "df_delitos = df_delitos[~df_delitos['id_camara'].str.startswith('MC')]\n",
    "# Filtrar df_delitos por el sector_inicio ROMA\n",
    "df_delitos = df_delitos[df_delitos['sector_inicio']=='ROMA']\n",
    "\n",
    "# Eliminar las columnas [latitud, longitud, folio, incidente_c4] de df_delitos porque generan conflicto al momento de agrupar por fecha y hora\n",
    "columns = list(df_delitos.columns)\n",
    "columns = [x for x in columns if x not in ['latitud', 'longitud', 'folio', 'incidente_c4', 'colonia', 'sector_inicio']]"
   ]
  },
  {
   "attachments": {},
   "cell_type": "markdown",
   "metadata": {},
   "source": [
    "### Último Preprocesamiento"
   ]
  },
  {
   "cell_type": "code",
   "execution_count": null,
   "metadata": {},
   "outputs": [],
   "source": [
    "# Asignar 00 a los minutos y segundos de la hora en la columna fecha_creacion y convertir a datetime\n",
    "df_delitos['fecha_creacion'] = df_delitos['fecha_creacion'].dt.strftime('%Y-%m-%d %H:00:00')\n",
    "df_delitos['fecha_creacion'] = pd.to_datetime(df_delitos['fecha_creacion'], format='%Y-%m-%d %H:%M:%S')"
   ]
  },
  {
   "attachments": {},
   "cell_type": "markdown",
   "metadata": {},
   "source": [
    "### Revision de tabla a procesar"
   ]
  },
  {
   "cell_type": "code",
   "execution_count": null,
   "metadata": {},
   "outputs": [],
   "source": [
    "df_delitos = df_delitos.groupby('id_camara')\n",
    "df_delitos.head()"
   ]
  },
  {
   "cell_type": "code",
   "execution_count": null,
   "metadata": {},
   "outputs": [],
   "source": [
    "# Análisis estádistico utilizando auto ARIMA\n",
    "\n",
    "# save the minumum error and best error \n",
    "min_value = math.inf\n",
    "max_value = -math.inf\n",
    "dayofweek = {0: 'lunes', 1: 'martes', 2: 'miércoles', 3: 'jueves', 4: 'viernes', 5: 'sábado', 6: 'domingo'}\n",
    "\n",
    "# Start timer to measure the time of execution\n",
    "start = time.time()\n",
    "start_day, end_day = start, start\n",
    "start_hour, end_hour = start, start\n",
    "start_camara, end_camara = start, start\n",
    "\n",
    "meantime_camara, meancount_camara = 0, 0\n",
    "meantime_hour, meancount_hour = 0, 0\n",
    "meantime_day, meancount_day = 0, 0\n",
    "\n",
    "# Iteration for each hour and day of the week\n",
    "# for day in range(0, 7):\n",
    "for day in range(6,-1,-1):\n",
    "    # dictionary with the day of the week in spanish\n",
    "    # day name in spanish\n",
    "    day_name = dayofweek[day]\n",
    "    # Save next results where there is data for the day of the week in a excel called 'consigas_[dayofweek].csv' with the columns: STV:id_camara, hora:hour_start:00-hour_start:59, dia:dayofweek\n",
    "    # create a dataframe with the columns: STV:id_camara, hora:hour_start:00-hour_start:59, dia:dayofweek\n",
    "    df_delitos_count_day = pd.DataFrame(columns=['STV', 'hora', 'dia'])\n",
    "    df_delitos_count_day_raw = pd.DataFrame(columns=['STV', 'hora', 'dia'])\n",
    "    # Start time for each day of the week\n",
    "    meantime_day += round((end_day - start_day), 2)\n",
    "    timeday_log = f'<{day_name} [{seconds_to_time(meantime_day/(meancount_day | 1))} per day]'\n",
    "    meancount_day += 1\n",
    "    start_day = time.time()\n",
    "    # for hour in range(0, 24):\n",
    "    for hour in range(23, -1, -1):\n",
    "        # Start time for each hour\n",
    "        meantime_hour += round((end_hour - start_hour), 2)\n",
    "        timehour_log = f'<{hour}:00 [{seconds_to_time(meantime_hour/(meancount_hour | 1))} per hour]'\n",
    "        meancount_hour += 1\n",
    "        start_hour = time.time()\n",
    "        i = 0\n",
    "        for id_camara, df in df_delitos:\n",
    "            i += 1\n",
    "            meantime_camara += round((end_camara - start_camara), 2)\n",
    "            timecamara_log = f'<{id_camara} ({i}/{len(df_delitos.groups)}) [{seconds_to_time(meantime_camara/(meancount_camara | 1))} per camera]'\n",
    "            meancount_camara += 1\n",
    "            print(f'\\r [{seconds_to_time(round((end_camara - start), 2))} total by now] {timecamara_log} {timehour_log} {timeday_log}', end='\\r')\n",
    "            # Start time for each camera\n",
    "            start_camara = time.time()\n",
    "            # Count the number of crimes per day but saving the date and the id_camara and set the fecha_creacion as index\n",
    "            df_delitos_count = df.groupby(columns).size().reset_index(name='count')\n",
    "            # Create rows for all the hours in the year 2022 and 2023 without losing the existing data\n",
    "            df_delitos_count = df_delitos_count.set_index('fecha_creacion').reindex(pd.date_range(start='2022-01-01', end='2023-02-01', freq='H')).reset_index().rename(columns={'index': 'fecha_creacion'})\n",
    "            # Find not nat values\n",
    "            df_delitos_count.fillna(0, inplace=True)\n",
    "            # Split the data into train (last 3 months in 2022) and test (first 2 weeks in 2023)\n",
    "            # DONT USE 'train = df_delitos_count[df_delitos_count.fecha_creacion.dt.year == 2022 and df_delitos_count.fecha_creacion.dt.month >= 10]' IS AMBIGUOUS\n",
    "            train = df_delitos_count[(df_delitos_count.fecha_creacion.dt.year == 2022) | (df_delitos_count.fecha_creacion.dt.isocalendar().week >= 52)]\n",
    "            test = df_delitos_count[(df_delitos_count.fecha_creacion.dt.year == 2023) & (df_delitos_count.fecha_creacion.dt.isocalendar().week == 1)]\n",
    "            # Hacer autoarima como en la seccion de abajo para todos los lunes a las 00:00, despues todos los lunes a las 01:00, etc\n",
    "            # Filter the data for the hour and day of the week\n",
    "            train_hour = train[(train.fecha_creacion.dt.hour == hour) & (train.fecha_creacion.dt.dayofweek == day)]\n",
    "            test_hour = test[(test.fecha_creacion.dt.hour == hour) & (test.fecha_creacion.dt.dayofweek == day)]\n",
    "            # If there is no data for the hour and day of the week, continue\n",
    "            if len(train_hour) == 0 or len(test_hour) == 0:\n",
    "                continue\n",
    "            # Fit the model\n",
    "            model = auto_arima(train['count'], stationary=True,\n",
    "                                    test='adf', start_p=1, d=1, start_q=0,\n",
    "                                    max_p=7, max_d=7, max_q=7,\n",
    "                                    # daily data\n",
    "                                    m=0,\n",
    "                                    # Desactivar el test\n",
    "                                    # seasonal=False,\n",
    "                                    seasonal=False,\n",
    "                                    seasonal_test='ch', start_P=0, D=0, start_Q=0,\n",
    "                                    trace=False, stepwise=True,\n",
    "                                    suppress_warnings=True, error_action='ignore',\n",
    "                                    random_state=0)\n",
    "            # Forecast\n",
    "            forecast, confint = model.predict(n_periods=len(test_hour), return_conf_int=True)\n",
    "            # day as string name\n",
    "            # Save the results from the forecast\n",
    "            df_delitos_count_day = pd.concat([df_delitos_count_day, pd.DataFrame({'STV': id_camara, 'hora': f'{hour}:00-{hour}:59', 'dia': day_name, 'cantidad': forecast})], ignore_index=True)\n",
    "            df_delitos_count_day_raw = pd.concat([df_delitos_count_day, pd.DataFrame({'STV': id_camara, 'hora': f'{hour}:00-{hour}:59', 'dia': day_name, 'cantidad': forecast})], ignore_index=True)\n",
    "            # End time for each camera\n",
    "            end_camara = time.time()\n",
    "        # End time for each hour\n",
    "        end_hour = time.time()\n",
    "    # Round values to 0 if they are less than 0.30 to floor else ceil\n",
    "    df_delitos_count_day['cantidad'] = df_delitos_count_day['cantidad'].apply(lambda x: math.floor(x) if x < 0.10 else math.ceil(x))\n",
    "    #Drop rows tih cantidad = 0\n",
    "    df_delitos_count_day = df_delitos_count_day[df_delitos_count_day['cantidad'] != 0]\n",
    "    # Order the columns by dia, hora and STV\n",
    "    df_delitos_count_day.sort_values(by=['dia', 'hora', 'STV'], inplace=True)\n",
    "    df_delitos_count_day_raw.sort_values(by=['dia', 'hora', 'STV'], inplace=True)\n",
    "    # Save the results from the forecast\n",
    "    df_delitos_count_day.to_csv(f'{PATH_DATA}consigas_{day_name}.csv', index=False)\n",
    "    df_delitos_count_day_raw.to_csv(f'{PATH_DATA}consigas_{day_name}_raw.csv', index=False)\n",
    "    # End time for each day of the week\n",
    "    end_day = time.time()\n",
    "\n",
    "# End time for the whole script\n",
    "end = time.time()\n",
    "print(f'\\rDone! [{seconds_to_time(round((end - start), 2))}s total]')"
   ]
  }
 ],
 "metadata": {
  "kernelspec": {
   "display_name": "Python 3",
   "language": "python",
   "name": "python3"
  },
  "language_info": {
   "codemirror_mode": {
    "name": "ipython",
    "version": 3
   },
   "file_extension": ".py",
   "mimetype": "text/x-python",
   "name": "python",
   "nbconvert_exporter": "python",
   "pygments_lexer": "ipython3",
   "version": "3.10.10"
  },
  "orig_nbformat": 4,
  "vscode": {
   "interpreter": {
    "hash": "c398db4e105cba99e1411579aa2b11b40dbdd75f7a84660cfc7dad961fe2c05e"
   }
  }
 },
 "nbformat": 4,
 "nbformat_minor": 2
}
