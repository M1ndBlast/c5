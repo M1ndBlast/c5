{
 "cells": [
  {
   "cell_type": "code",
   "execution_count": 83,
   "metadata": {},
   "outputs": [],
   "source": [
    "import pandas as pd\n",
    "# Install xlsxwriter if you don't have it\n",
    "# !pip install xlsxwriter\n",
    "\n",
    "PATH_DATA = '../'\n",
    "# Create a sample dataframe\n",
    "data = pd.read_excel(PATH_DATA+'Folios_boton_promad_2023-02-12.xlsx', dtype=str, sheet_name='Folios')\n",
    "data.head()\n",
    "# Create a pivot table\n",
    "pivot_table = pd.pivot_table(\n",
    "    data[data['C2_INICIO']=='C2 PONIENTE'], \n",
    "    values='FOLIO', \n",
    "    index='CODIGO_MOTIVO_CIERRE_INSTITUCION', \n",
    "    columns=['mes_cierre', 'sin_corregir'], \n",
    "    margins=True, margins_name='TOTAL',\n",
    "    aggfunc='count', fill_value=0\n",
    ")\n",
    "\n",
    "# Drop any coloumns where pair is (Any, 'Corregido')\n",
    "pivot_table = pivot_table.drop(columns='Corregido', level=1)\n",
    "# Sum again column TOTAL to get the total of the row\n",
    "pivot_table['TOTAL'] = pivot_table.sum(axis=1)\n",
    "# Rename index to Código de cierre\n",
    "pivot_table.index.name = 'Código de cierre'"
   ]
  },
  {
   "cell_type": "code",
   "execution_count": 84,
   "metadata": {},
   "outputs": [
    {
     "name": "stdout",
     "output_type": "stream",
     "text": [
      "MultiIndex([('Diciembre', 'Sin corregir'),\n",
      "            (    'Enero', 'Sin corregir'),\n",
      "            (  'Febrero', 'Sin corregir'),\n",
      "            (    'TOTAL',             '')],\n",
      "           names=['mes_cierre', 'sin_corregir'])\n"
     ]
    },
    {
     "data": {
      "text/html": [
       "<div>\n",
       "<style scoped>\n",
       "    .dataframe tbody tr th:only-of-type {\n",
       "        vertical-align: middle;\n",
       "    }\n",
       "\n",
       "    .dataframe tbody tr th {\n",
       "        vertical-align: top;\n",
       "    }\n",
       "\n",
       "    .dataframe thead tr th {\n",
       "        text-align: left;\n",
       "    }\n",
       "\n",
       "    .dataframe thead tr:last-of-type th {\n",
       "        text-align: right;\n",
       "    }\n",
       "</style>\n",
       "<table border=\"1\" class=\"dataframe\">\n",
       "  <thead>\n",
       "    <tr>\n",
       "      <th>mes_cierre</th>\n",
       "      <th>Diciembre</th>\n",
       "      <th>Enero</th>\n",
       "      <th>Febrero</th>\n",
       "      <th>TOTAL</th>\n",
       "    </tr>\n",
       "    <tr>\n",
       "      <th>sin_corregir</th>\n",
       "      <th>Sin corregir</th>\n",
       "      <th>Sin corregir</th>\n",
       "      <th>Sin corregir</th>\n",
       "      <th></th>\n",
       "    </tr>\n",
       "    <tr>\n",
       "      <th>Código de cierre</th>\n",
       "      <th></th>\n",
       "      <th></th>\n",
       "      <th></th>\n",
       "      <th></th>\n",
       "    </tr>\n",
       "  </thead>\n",
       "  <tbody>\n",
       "    <tr>\n",
       "      <th>ACI</th>\n",
       "      <td>3</td>\n",
       "      <td>2</td>\n",
       "      <td>4</td>\n",
       "      <td>9</td>\n",
       "    </tr>\n",
       "    <tr>\n",
       "      <th>ASI</th>\n",
       "      <td>41</td>\n",
       "      <td>26</td>\n",
       "      <td>19</td>\n",
       "      <td>86</td>\n",
       "    </tr>\n",
       "    <tr>\n",
       "      <th>CM</th>\n",
       "      <td>0</td>\n",
       "      <td>0</td>\n",
       "      <td>0</td>\n",
       "      <td>0</td>\n",
       "    </tr>\n",
       "    <tr>\n",
       "      <th>D</th>\n",
       "      <td>41</td>\n",
       "      <td>19</td>\n",
       "      <td>3</td>\n",
       "      <td>63</td>\n",
       "    </tr>\n",
       "    <tr>\n",
       "      <th>F</th>\n",
       "      <td>17</td>\n",
       "      <td>9</td>\n",
       "      <td>9</td>\n",
       "      <td>35</td>\n",
       "    </tr>\n",
       "    <tr>\n",
       "      <th>I</th>\n",
       "      <td>2</td>\n",
       "      <td>3</td>\n",
       "      <td>1</td>\n",
       "      <td>6</td>\n",
       "    </tr>\n",
       "    <tr>\n",
       "      <th>SYS</th>\n",
       "      <td>163</td>\n",
       "      <td>124</td>\n",
       "      <td>107</td>\n",
       "      <td>394</td>\n",
       "    </tr>\n",
       "    <tr>\n",
       "      <th>TOTAL</th>\n",
       "      <td>267</td>\n",
       "      <td>183</td>\n",
       "      <td>143</td>\n",
       "      <td>593</td>\n",
       "    </tr>\n",
       "  </tbody>\n",
       "</table>\n",
       "</div>"
      ],
      "text/plain": [
       "mes_cierre          Diciembre        Enero      Febrero TOTAL\n",
       "sin_corregir     Sin corregir Sin corregir Sin corregir      \n",
       "Código de cierre                                             \n",
       "ACI                         3            2            4     9\n",
       "ASI                        41           26           19    86\n",
       "CM                          0            0            0     0\n",
       "D                          41           19            3    63\n",
       "F                          17            9            9    35\n",
       "I                           2            3            1     6\n",
       "SYS                       163          124          107   394\n",
       "TOTAL                     267          183          143   593"
      ]
     },
     "execution_count": 84,
     "metadata": {},
     "output_type": "execute_result"
    }
   ],
   "source": [
    "# Sum as int\n",
    "pivot_table['TOTAL'] = pivot_table.drop(columns='TOTAL').sum(axis=1).astype(int)\n",
    "print(pivot_table.columns)\n",
    "pivot_table"
   ]
  },
  {
   "cell_type": "code",
   "execution_count": 85,
   "metadata": {},
   "outputs": [],
   "source": [
    "pivot_table_final = pivot_table.loc[:'SYS'][:-1]\n",
    "pivot_table_final.loc['SUB TOTAL'] = pivot_table_final.sum()\n",
    "pivot_table_final = pd.concat([pivot_table_final, pivot_table.loc['SYS':]])\n",
    "pivot_table = pivot_table_final"
   ]
  },
  {
   "cell_type": "code",
   "execution_count": 82,
   "metadata": {},
   "outputs": [
    {
     "data": {
      "text/plain": [
       "Index(['ACI', 'ASI', 'CM', 'D', 'F', 'I', 'SUB TOTAL', 'SYS', 'TOTAL'], dtype='object', name='CODIGO_MOTIVO_CIERRE_INSTITUCION')"
      ]
     },
     "execution_count": 82,
     "metadata": {},
     "output_type": "execute_result"
    }
   ],
   "source": [
    "pivot_table_final.index"
   ]
  },
  {
   "cell_type": "code",
   "execution_count": 86,
   "metadata": {},
   "outputs": [
    {
     "name": "stderr",
     "output_type": "stream",
     "text": [
      "C:\\Users\\jddel\\AppData\\Local\\Temp\\ipykernel_8572\\2085802258.py:4: FutureWarning: save is not part of the public API, usage can give unexpected results and will be removed in a future version\n",
      "  writer.save()\n"
     ]
    }
   ],
   "source": [
    "\n",
    "# # Write the pivot table to an Excel file\n",
    "writer = pd.ExcelWriter('pivot_table.xlsx', engine='xlsxwriter')\n",
    "pivot_table.to_excel(writer, sheet_name='Sheet1')\n",
    "writer.save()"
   ]
  }
 ],
 "metadata": {
  "kernelspec": {
   "display_name": "base",
   "language": "python",
   "name": "python3"
  },
  "language_info": {
   "codemirror_mode": {
    "name": "ipython",
    "version": 3
   },
   "file_extension": ".py",
   "mimetype": "text/x-python",
   "name": "python",
   "nbconvert_exporter": "python",
   "pygments_lexer": "ipython3",
   "version": "3.10.8"
  },
  "orig_nbformat": 4,
  "vscode": {
   "interpreter": {
    "hash": "b350b301ab686cc38c89757293f17f33d256656378ea8ac36012022ad524cef5"
   }
  }
 },
 "nbformat": 4,
 "nbformat_minor": 2
}
