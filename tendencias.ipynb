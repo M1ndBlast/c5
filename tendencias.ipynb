{
 "cells": [
  {
   "cell_type": "code",
   "execution_count": null,
   "metadata": {},
   "outputs": [],
   "source": [
    "# Load dataset \"compilado_delitos_2022.xlsx\" with pandas\n",
    "import pandas as pd\n",
    "import numpy as np\n",
    "import matplotlib.pyplot as plt\n",
    "\n",
    "# Read the data, all strings\n",
    "df_copy = pd.read_excel('compilado_delitos_2022.xlsx', dtype=str)\n"
   ]
  },
  {
   "cell_type": "code",
   "execution_count": null,
   "metadata": {},
   "outputs": [],
   "source": [
    "df = df_copy.copy()"
   ]
  },
  {
   "cell_type": "code",
   "execution_count": null,
   "metadata": {},
   "outputs": [],
   "source": [
    "#Print dimensions of the dataset\n",
    "print(df.shape)"
   ]
  },
  {
   "cell_type": "code",
   "execution_count": null,
   "metadata": {},
   "outputs": [],
   "source": [
    "# Print columns of the dataset\n",
    "print(df.columns)\n",
    "# Print the first 5 rows of the data\n",
    "df.head()"
   ]
  },
  {
   "cell_type": "code",
   "execution_count": null,
   "metadata": {},
   "outputs": [],
   "source": [
    "''' Save columns and drop the ones that are not needed\n",
    "       ['fecha_creacion', 'hora_creacion',\n",
    "       'dia_semana', 'incidente_c4', 'colonia', 'delegacion_inicio',\n",
    "       'sector_inicio', 'latitud', 'longitud']\n",
    "'''\n",
    "\n",
    "# Remove YYYY-MM-DD in field hora_creacion\n",
    "df['hora_creacion'] = df['hora_creacion'].str[11:13]\n",
    "# Save only MM in field fecha_creacion\n",
    "df['fecha_creacion'] = df['fecha_creacion'].str[5:7]\n",
    "# Parse int to name of month in spanish\n",
    "df['fecha_creacion'] = df['fecha_creacion'].replace({'01':'01-Enero', '02':'02-Febrero', '03':'03-Marzo', '04':'04-Abril', '05':'05-Mayo', '06':'06-Junio', '07':'07-Julio', '08':'08-Agosto', '09':'09-Septiembre', '10':'10-Octubre', '11':'11-Noviembre', '12':'12-Diciembre'})\n",
    "\n",
    "columns = ['fecha_creacion', 'hora_creacion',\n",
    "        'dia_semana', 'incidente_c4', 'colonia', 'delegacion_inicio',\n",
    "        'sector_inicio', 'latitud', 'longitud']\n",
    "\n",
    "df = df[columns]\n",
    "\n",
    "\n",
    "\n",
    "# Print the first 5 rows of the data\n",
    "df.head()"
   ]
  },
  {
   "cell_type": "code",
   "execution_count": null,
   "metadata": {},
   "outputs": [],
   "source": [
    "# Separar los datos por delitos\n",
    "df_delitos = df.groupby('incidente_c4')"
   ]
  },
  {
   "cell_type": "code",
   "execution_count": null,
   "metadata": {},
   "outputs": [],
   "source": [
    "\n",
    "\n",
    "for delito, delito_df in df_delitos:\n",
    "    delito_df.groupby('hora_creacion').count()['incidente_c4'].plot()\n",
    "    # Rotate x-labels\n",
    "    plt.xticks(rotation=90)\n",
    "    plt.title(delito)\n",
    "    plt.show()"
   ]
  },
  {
   "cell_type": "code",
   "execution_count": null,
   "metadata": {},
   "outputs": [],
   "source": [
    "#Ciclo para mostrar la frecuencia temporal de cada delito\n",
    "for delito, delito_df in df_delitos:\n",
    "    delito_df.groupby('dia_semana').count()['incidente_c4'].plot()\n",
    "    plt.title(delito)\n",
    "    plt.show()\n"
   ]
  },
  {
   "cell_type": "code",
   "execution_count": null,
   "metadata": {},
   "outputs": [],
   "source": [
    "for delito, delito_df in df_delitos:\n",
    "    delito_df.groupby('fecha_creacion').count()['incidente_c4'].plot()\n",
    "    # Rotate x-labels\n",
    "    plt.xticks(rotation=90)\n",
    "    plt.title(delito)\n",
    "    plt.show()"
   ]
  }
 ],
 "metadata": {
  "kernelspec": {
   "display_name": "c5",
   "language": "python",
   "name": "python3"
  },
  "language_info": {
   "codemirror_mode": {
    "name": "ipython",
    "version": 3
   },
   "file_extension": ".py",
   "mimetype": "text/x-python",
   "name": "python",
   "nbconvert_exporter": "python",
   "pygments_lexer": "ipython3",
   "version": "3.10.9"
  },
  "orig_nbformat": 4,
  "vscode": {
   "interpreter": {
    "hash": "08eec5e01b8d1267510c210317a9a759dbb7c876edc9069477e2a573621a3c8d"
   }
  }
 },
 "nbformat": 4,
 "nbformat_minor": 2
}
